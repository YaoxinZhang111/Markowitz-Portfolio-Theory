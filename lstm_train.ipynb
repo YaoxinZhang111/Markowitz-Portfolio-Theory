{
 "cells": [
  {
   "cell_type": "code",
   "execution_count": 1,
   "metadata": {},
   "outputs": [],
   "source": [
    "windows = 10\n",
    "seed = 2023"
   ]
  },
  {
   "cell_type": "code",
   "execution_count": 2,
   "metadata": {},
   "outputs": [
    {
     "name": "stdout",
     "output_type": "stream",
     "text": [
      "(26504,)\n",
      "(26504, 10, 7)\n"
     ]
    }
   ],
   "source": [
    "import pandas as pd\n",
    "import numpy as np\n",
    "ground = pd.read_csv('./data/sh.000001.csv')\n",
    "\n",
    "ground_date = pd.to_datetime(ground['date'])\n",
    "dates = ground_date.tolist()\n",
    "# sh300\n",
    "sh300 = pd.read_csv('hs300_stocks.csv')\n",
    "stock_list = sh300.code.tolist()\n",
    "\n",
    "def df_tolist(df):\n",
    "    # 将pandas.dataframe转list\n",
    "    array_ = np.array(df)\n",
    "    list_ = array_.tolist()\n",
    "    return list_\n",
    "\n",
    "features = []\n",
    "labels = []\n",
    "for stock in stock_list:\n",
    "    df = pd.read_csv('./data/%s.csv' % stock)\n",
    "    df['date'] = pd.to_datetime(df['date'])\n",
    "    data_ = pd.merge(ground_date, df, how='left', on='date')\n",
    "    data_ = data_.iloc[:,1:].dropna(how='any')\n",
    "    data_.pctChg = data_.pctChg/100\n",
    "\n",
    "    for idx in range(len(data_)-windows):\n",
    "        if np.all(data_.iloc[idx:idx+windows+1,:]) != 0: \n",
    "            \n",
    "            feature = data_.iloc[idx:idx+windows,1:]\n",
    "            label = data_.iloc[idx+windows,6]\n",
    "            \n",
    "            feature = df_tolist(feature)\n",
    "            \n",
    "            \n",
    "            features.append(feature)\n",
    "            \n",
    "            labels.append(label)\n",
    "\n",
    "features = np.array(features)\n",
    "labels = np.array(labels)\n",
    "print(labels.shape)\n",
    "print(features.shape)\n",
    "\n",
    "\n",
    "\n"
   ]
  },
  {
   "cell_type": "code",
   "execution_count": 3,
   "metadata": {},
   "outputs": [
    {
     "data": {
      "text/plain": [
       "(7,)"
      ]
     },
     "execution_count": 3,
     "metadata": {},
     "output_type": "execute_result"
    }
   ],
   "source": [
    "max_value = ground.iloc[:,2:].max().values\n",
    "max_value.shape"
   ]
  },
  {
   "cell_type": "code",
   "execution_count": 4,
   "metadata": {},
   "outputs": [],
   "source": [
    "np.random.seed(seed=seed)\n",
    "np.random.shuffle(features)\n",
    "np.random.shuffle(labels)\n",
    "\n",
    "features = features/max_value\n",
    "labels = labels/max_value[6]"
   ]
  },
  {
   "cell_type": "code",
   "execution_count": 5,
   "metadata": {},
   "outputs": [
    {
     "name": "stdout",
     "output_type": "stream",
     "text": [
      "(26504, 10, 7)\n",
      "(26504,)\n"
     ]
    }
   ],
   "source": [
    "print(features.shape)\n",
    "print(labels.shape)"
   ]
  },
  {
   "cell_type": "code",
   "execution_count": 6,
   "metadata": {},
   "outputs": [
    {
     "name": "stdout",
     "output_type": "stream",
     "text": [
      "训练集形状: (21203, 10, 7) (21203,)\n",
      "测试集形状: (5301, 10, 7) (5301,)\n"
     ]
    }
   ],
   "source": [
    "# 定义划分比例\n",
    "train_ratio = 0.8\n",
    "\n",
    "# 计算划分的索引\n",
    "split_index = int(features.shape[0] * train_ratio)\n",
    "\n",
    "# 划分数据集\n",
    "x_train, x_test = features[:split_index], features[split_index:]\n",
    "y_train, y_test = labels[:split_index], labels[split_index:]\n",
    "\n",
    "# 打印训练集和测试集的形状\n",
    "print(\"训练集形状:\", x_train.shape, y_train.shape)\n",
    "print(\"测试集形状:\", x_test.shape, y_test.shape)"
   ]
  },
  {
   "cell_type": "code",
   "execution_count": 7,
   "metadata": {},
   "outputs": [],
   "source": [
    "from keras.models import Sequential\n",
    "from keras.layers import LSTM, Dense, Dropout\n",
    "\n",
    "model = Sequential()\n",
    "model.add(LSTM(100, return_sequences=True, input_shape=(None,7)))\n",
    "model.add(Dropout(0.2))\n",
    "model.add(LSTM(100, return_sequences=False))\n",
    "model.add(Dropout(0.2))\n",
    "model.add(Dense(50, activation='relu'))\n",
    "model.add(Dropout(0.2))\n",
    "model.add(Dense(1))\n",
    "\n",
    "model.compile(optimizer='adam', loss='mean_squared_error')"
   ]
  },
  {
   "cell_type": "code",
   "execution_count": 8,
   "metadata": {},
   "outputs": [
    {
     "name": "stdout",
     "output_type": "stream",
     "text": [
      "WARNING:tensorflow:`period` argument is deprecated. Please use `save_freq` to specify the frequency in number of batches seen.\n"
     ]
    }
   ],
   "source": [
    "from keras.callbacks import TensorBoard, ModelCheckpoint, EarlyStopping\n",
    "\n",
    "# 创建TensorBoard回调函数\n",
    "tensorboard_callback = TensorBoard(log_dir='./lstm_log', histogram_freq=1)\n",
    "\n",
    "# 创建EarlyStopping回调函数\n",
    "earlystop_callback = EarlyStopping(monitor='val_loss', patience=3)\n",
    "\n",
    "# 创建ModelCheckpoint回调函数\n",
    "checkpoint_callback = ModelCheckpoint(filepath='model_checkpoint.h5', \n",
    "                                      monitor='val_loss', \n",
    "                                      save_best_only=True, \n",
    "                                      save_weights_only=False, \n",
    "                                      mode='min', \n",
    "                                      period=5)\n",
    "\n"
   ]
  },
  {
   "cell_type": "code",
   "execution_count": 9,
   "metadata": {},
   "outputs": [
    {
     "name": "stdout",
     "output_type": "stream",
     "text": [
      "Epoch 1/25\n"
     ]
    },
    {
     "name": "stderr",
     "output_type": "stream",
     "text": [
      "2023-07-30 13:35:11.854406: W tensorflow/tsl/platform/profile_utils/cpu_utils.cc:128] Failed to get CPU frequency: 0 Hz\n"
     ]
    },
    {
     "name": "stdout",
     "output_type": "stream",
     "text": [
      "330/332 [============================>.] - ETA: 0s - loss: 2.5070WARNING:tensorflow:Early stopping conditioned on metric `val_loss` which is not available. Available metrics are: loss\n",
      "332/332 [==============================] - 6s 14ms/step - loss: 2.5072\n",
      "Epoch 2/25\n",
      "330/332 [============================>.] - ETA: 0s - loss: 2.4605WARNING:tensorflow:Early stopping conditioned on metric `val_loss` which is not available. Available metrics are: loss\n",
      "332/332 [==============================] - 5s 14ms/step - loss: 2.4585\n",
      "Epoch 3/25\n",
      "329/332 [============================>.] - ETA: 0s - loss: 2.4256WARNING:tensorflow:Early stopping conditioned on metric `val_loss` which is not available. Available metrics are: loss\n",
      "332/332 [==============================] - 5s 14ms/step - loss: 2.4435\n",
      "Epoch 4/25\n",
      "329/332 [============================>.] - ETA: 0s - loss: 2.4458WARNING:tensorflow:Early stopping conditioned on metric `val_loss` which is not available. Available metrics are: loss\n",
      "332/332 [==============================] - 5s 14ms/step - loss: 2.4417\n",
      "Epoch 5/25\n",
      "331/332 [============================>.] - ETA: 0s - loss: 2.4431WARNING:tensorflow:Can save best model only with val_loss available, skipping.\n",
      "WARNING:tensorflow:Early stopping conditioned on metric `val_loss` which is not available. Available metrics are: loss\n",
      "332/332 [==============================] - 5s 14ms/step - loss: 2.4423\n",
      "Epoch 6/25\n",
      "331/332 [============================>.] - ETA: 0s - loss: 2.4418WARNING:tensorflow:Early stopping conditioned on metric `val_loss` which is not available. Available metrics are: loss\n",
      "332/332 [==============================] - 5s 14ms/step - loss: 2.4400\n",
      "Epoch 7/25\n",
      "329/332 [============================>.] - ETA: 0s - loss: 2.4363WARNING:tensorflow:Early stopping conditioned on metric `val_loss` which is not available. Available metrics are: loss\n",
      "332/332 [==============================] - 4s 13ms/step - loss: 2.4389\n",
      "Epoch 8/25\n",
      "328/332 [============================>.] - ETA: 0s - loss: 2.4420WARNING:tensorflow:Early stopping conditioned on metric `val_loss` which is not available. Available metrics are: loss\n",
      "332/332 [==============================] - 5s 14ms/step - loss: 2.4383\n",
      "Epoch 9/25\n",
      "330/332 [============================>.] - ETA: 0s - loss: 2.4363WARNING:tensorflow:Early stopping conditioned on metric `val_loss` which is not available. Available metrics are: loss\n",
      "332/332 [==============================] - 4s 13ms/step - loss: 2.4323\n",
      "Epoch 10/25\n",
      "331/332 [============================>.] - ETA: 0s - loss: 2.4269WARNING:tensorflow:Can save best model only with val_loss available, skipping.\n",
      "WARNING:tensorflow:Early stopping conditioned on metric `val_loss` which is not available. Available metrics are: loss\n",
      "332/332 [==============================] - 5s 14ms/step - loss: 2.4255\n",
      "Epoch 11/25\n",
      "329/332 [============================>.] - ETA: 0s - loss: 2.4354WARNING:tensorflow:Early stopping conditioned on metric `val_loss` which is not available. Available metrics are: loss\n",
      "332/332 [==============================] - 5s 14ms/step - loss: 2.4306\n",
      "Epoch 12/25\n",
      "330/332 [============================>.] - ETA: 0s - loss: 2.4270WARNING:tensorflow:Early stopping conditioned on metric `val_loss` which is not available. Available metrics are: loss\n",
      "332/332 [==============================] - 4s 13ms/step - loss: 2.4286\n",
      "Epoch 13/25\n",
      "329/332 [============================>.] - ETA: 0s - loss: 2.4192WARNING:tensorflow:Early stopping conditioned on metric `val_loss` which is not available. Available metrics are: loss\n",
      "332/332 [==============================] - 4s 13ms/step - loss: 2.4252\n",
      "Epoch 14/25\n",
      "328/332 [============================>.] - ETA: 0s - loss: 2.4250WARNING:tensorflow:Early stopping conditioned on metric `val_loss` which is not available. Available metrics are: loss\n",
      "332/332 [==============================] - 5s 14ms/step - loss: 2.4288\n",
      "Epoch 15/25\n",
      "330/332 [============================>.] - ETA: 0s - loss: 2.4240WARNING:tensorflow:Can save best model only with val_loss available, skipping.\n",
      "WARNING:tensorflow:Early stopping conditioned on metric `val_loss` which is not available. Available metrics are: loss\n",
      "332/332 [==============================] - 4s 13ms/step - loss: 2.4228\n",
      "Epoch 16/25\n",
      "331/332 [============================>.] - ETA: 0s - loss: 2.4218WARNING:tensorflow:Early stopping conditioned on metric `val_loss` which is not available. Available metrics are: loss\n",
      "332/332 [==============================] - 4s 13ms/step - loss: 2.4208\n",
      "Epoch 17/25\n",
      "329/332 [============================>.] - ETA: 0s - loss: 2.4344WARNING:tensorflow:Early stopping conditioned on metric `val_loss` which is not available. Available metrics are: loss\n",
      "332/332 [==============================] - 4s 13ms/step - loss: 2.4242\n",
      "Epoch 18/25\n",
      "329/332 [============================>.] - ETA: 0s - loss: 2.4326WARNING:tensorflow:Early stopping conditioned on metric `val_loss` which is not available. Available metrics are: loss\n",
      "332/332 [==============================] - 4s 14ms/step - loss: 2.4260\n",
      "Epoch 19/25\n",
      "331/332 [============================>.] - ETA: 0s - loss: 2.4255WARNING:tensorflow:Early stopping conditioned on metric `val_loss` which is not available. Available metrics are: loss\n",
      "332/332 [==============================] - 5s 14ms/step - loss: 2.4252\n",
      "Epoch 20/25\n",
      "329/332 [============================>.] - ETA: 0s - loss: 2.4106WARNING:tensorflow:Can save best model only with val_loss available, skipping.\n",
      "WARNING:tensorflow:Early stopping conditioned on metric `val_loss` which is not available. Available metrics are: loss\n",
      "332/332 [==============================] - 5s 14ms/step - loss: 2.4213\n",
      "Epoch 21/25\n",
      "331/332 [============================>.] - ETA: 0s - loss: 2.4220WARNING:tensorflow:Early stopping conditioned on metric `val_loss` which is not available. Available metrics are: loss\n",
      "332/332 [==============================] - 5s 14ms/step - loss: 2.4224\n",
      "Epoch 22/25\n",
      "332/332 [==============================] - ETA: 0s - loss: 2.4223WARNING:tensorflow:Early stopping conditioned on metric `val_loss` which is not available. Available metrics are: loss\n",
      "332/332 [==============================] - 5s 14ms/step - loss: 2.4223\n",
      "Epoch 23/25\n",
      "332/332 [==============================] - ETA: 0s - loss: 2.4210WARNING:tensorflow:Early stopping conditioned on metric `val_loss` which is not available. Available metrics are: loss\n",
      "332/332 [==============================] - 5s 14ms/step - loss: 2.4210\n",
      "Epoch 24/25\n",
      "329/332 [============================>.] - ETA: 0s - loss: 2.4225WARNING:tensorflow:Early stopping conditioned on metric `val_loss` which is not available. Available metrics are: loss\n",
      "332/332 [==============================] - 5s 14ms/step - loss: 2.4227\n",
      "Epoch 25/25\n",
      "329/332 [============================>.] - ETA: 0s - loss: 2.4092WARNING:tensorflow:Can save best model only with val_loss available, skipping.\n",
      "WARNING:tensorflow:Early stopping conditioned on metric `val_loss` which is not available. Available metrics are: loss\n",
      "332/332 [==============================] - 5s 14ms/step - loss: 2.4213\n"
     ]
    },
    {
     "data": {
      "image/png": "[encoded data removed]",
      "text/plain": [
       "<Figure size 640x480 with 1 Axes>"
      ]
     },
     "metadata": {},
     "output_type": "display_data"
    }
   ],
   "source": [
    "import matplotlib.pyplot as plt\n",
    "\n",
    "# 训练模型并获取History对象\n",
    "history = model.fit(x_train, y_train, epochs=25, batch_size=64, callbacks=[tensorboard_callback, checkpoint_callback, earlystop_callback])\n",
    "\n",
    "# 获取训练损失值\n",
    "loss = history.history['loss']\n",
    "\n",
    "# 创建一个图形\n",
    "plt.figure()\n",
    "\n",
    "# 绘制损失曲线\n",
    "plt.plot(loss, label='Training Loss')\n",
    "\n",
    "# 添加标题和标签\n",
    "plt.title('Training Loss')\n",
    "plt.xlabel('Epoch')\n",
    "plt.ylabel('Loss')\n",
    "\n",
    "# 显示图例\n",
    "plt.legend()\n",
    "\n",
    "# 显示图形\n",
    "plt.show()"
   ]
  }
 ],
 "metadata": {
  "kernelspec": {
   "display_name": "fin",
   "language": "python",
   "name": "python3"
  },
  "language_info": {
   "codemirror_mode": {
    "name": "ipython",
    "version": 3
   },
   "file_extension": ".py",
   "mimetype": "text/x-python",
   "name": "python",
   "nbconvert_exporter": "python",
   "pygments_lexer": "ipython3",
   "version": "3.8.17"
  },
  "orig_nbformat": 4
 },
 "nbformat": 4,
 "nbformat_minor": 2
}
